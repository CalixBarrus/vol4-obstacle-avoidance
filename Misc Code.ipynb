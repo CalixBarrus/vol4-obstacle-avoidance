{
 "cells": [
  {
   "cell_type": "code",
   "execution_count": 1,
   "id": "0d954f1f",
   "metadata": {},
   "outputs": [],
   "source": [
    "import numpy as np"
   ]
  },
  {
   "cell_type": "code",
   "execution_count": 2,
   "id": "e472310d",
   "metadata": {},
   "outputs": [],
   "source": [
    "def SAS_height(a, b, theta):\n",
    "    c = (a**2 + b**2 - 2*a*b*np.cos(theta))**.5\n",
    "    A = a*b*np.sin(theta)/2\n",
    "    height = 2*A/c\n",
    "    return height"
   ]
  },
  {
   "cell_type": "code",
   "execution_count": null,
   "id": "ed13cd94",
   "metadata": {},
   "outputs": [],
   "source": []
  }
 ],
 "metadata": {
  "kernelspec": {
   "display_name": "Python 3 (ipykernel)",
   "language": "python",
   "name": "python3"
  },
  "language_info": {
   "codemirror_mode": {
    "name": "ipython",
    "version": 3
   },
   "file_extension": ".py",
   "mimetype": "text/x-python",
   "name": "python",
   "nbconvert_exporter": "python",
   "pygments_lexer": "ipython3",
   "version": "3.7.6"
  }
 },
 "nbformat": 4,
 "nbformat_minor": 5
}
